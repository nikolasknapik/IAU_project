{
 "cells": [
  {
   "cell_type": "code",
   "execution_count": 10,
   "id": "cdf03fb4",
   "metadata": {},
   "outputs": [],
   "source": [
    "import os, glob, warnings\n",
    "\n",
    "import numpy as np\n",
    "import pandas as pd\n",
    "import matplotlib.pyplot as plt\n",
    "\n",
    "DATA_DIR = \"./115\"\n",
    "\n",
    "SEED = 42\n",
    "np.random.seed(SEED)\n",
    "\n"
   ]
  },
  {
   "cell_type": "code",
   "execution_count": 11,
   "id": "74100442",
   "metadata": {},
   "outputs": [
    {
     "name": "stdout",
     "output_type": "stream",
     "text": [
      "Nájdených súborov: 3\n",
      "./115/observation.csv\n",
      "./115/patient.csv\n",
      "./115/station.csv\n"
     ]
    }
   ],
   "source": [
    "paths = sorted(glob.glob(os.path.join(DATA_DIR, \"**\", \"*.*\"), recursive=True))\n",
    "print(f\"Nájdených súborov: {len(paths)}\")\n",
    "\n",
    "for p in paths[:10]:\n",
    "    print(p)"
   ]
  },
  {
   "cell_type": "code",
   "execution_count": 8,
   "id": "197c501a",
   "metadata": {},
   "outputs": [
    {
     "name": "stdout",
     "output_type": "stream",
     "text": [
      "Preskočené ./115/patient.csv: Error tokenizing data. C error: Expected 1 fields in line 6, saw 3\n",
      "\n",
      "Preskočené ./115/station.csv: Error tokenizing data. C error: Expected 1 fields in line 3, saw 2\n",
      "\n",
      "Načítaných tabuliek: 1\n"
     ]
    },
    {
     "data": {
      "text/plain": [
       "['observation.csv']"
      ]
     },
     "execution_count": 8,
     "metadata": {},
     "output_type": "execute_result"
    }
   ],
   "source": [
    "# Pokus o načítanie tabuliek do dictu `loaded`\n",
    "loaded = {}\n",
    "\n",
    "for p in paths:\n",
    "    ext = p.split(\".\")[-1].lower()\n",
    "    try:\n",
    "        if ext == \"csv\":\n",
    "            df = pd.read_csv(p)\n",
    "            loaded[os.path.basename(p)] = df\n",
    "        elif ext in (\"xlsx\", \"xls\"):\n",
    "            # ak máš Excel s viacerými listami\n",
    "            xls = pd.read_excel(p, sheet_name=None)\n",
    "            for sheet, dfx in xls.items():\n",
    "                loaded[f\"{os.path.basename(p)}::{sheet}\"] = dfx\n",
    "        else:\n",
    "            continue\n",
    "    except Exception as e:\n",
    "        print(f\"Preskočené {p}: {e}\")\n",
    "\n",
    "print(f\"Načítaných tabuliek: {len(loaded)}\")\n",
    "list(loaded.keys())"
   ]
  }
 ],
 "metadata": {
  "kernelspec": {
   "display_name": ".venv (3.9.6)",
   "language": "python",
   "name": "python3"
  },
  "language_info": {
   "codemirror_mode": {
    "name": "ipython",
    "version": 3
   },
   "file_extension": ".py",
   "mimetype": "text/x-python",
   "name": "python",
   "nbconvert_exporter": "python",
   "pygments_lexer": "ipython3",
   "version": "3.9.6"
  }
 },
 "nbformat": 4,
 "nbformat_minor": 5
}
