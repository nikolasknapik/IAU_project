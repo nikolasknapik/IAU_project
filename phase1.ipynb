{
 "cells": [
  {
   "cell_type": "markdown",
   "id": "263f4a1b",
   "metadata": {},
   "source": [
    "# Fáza 1. Prieskumná analýza"
   ]
  },
  {
   "cell_type": "markdown",
   "id": "fedbfbb3",
   "metadata": {},
   "source": [
    "## 1.1 Základný opis dát spolu s ich charakteristikami"
   ]
  },
  {
   "cell_type": "code",
   "execution_count": null,
   "id": "cdf03fb4",
   "metadata": {},
   "outputs": [],
   "source": [
    "import pandas as pd\n",
    "import numpy as np\n",
    "import matplotlib.pyplot as plt\n",
    "import seaborn as sns\n",
    "import os\n",
    "from IPython.display import display, HTML\n",
    "from scipy.stats import pearsonr,spearmanr\n",
    "\n",
    "SEED = 42\n",
    "np.random.seed(SEED)\n",
    "\n",
    "DATA_DIR = \"./115\"\n",
    "\n",
    "# Načítanie dát\n",
    "\n",
    "df_obs = pd.read_csv(os.path.join(DATA_DIR, \"observation.csv\"), sep='\\t', encoding='utf-8-sig')\n",
    "df_pat = pd.read_csv(os.path.join(DATA_DIR, \"patient.csv\"), sep='\\t', encoding='utf-8-sig')\n",
    "df_sta = pd.read_csv(os.path.join(DATA_DIR, \"station.csv\"), sep='\\t', encoding='utf-8-sig')\n"
   ]
  },
  {
   "cell_type": "code",
   "execution_count": null,
   "id": "74100442",
   "metadata": {},
   "outputs": [],
   "source": [
    "# --- A. Analýza štruktúr dát ---\n",
    "\n",
    "# Funkcia na rýchly prehľad datasetu\n",
    "\n",
    "def dataset_summary(df, name):\n",
    "    print(\"Dataset:\",name)\n",
    "    print(\"Počet riadkov: \",df.shape[0])\n",
    "    print(\"Počet stĺpcov: \",df.shape[1])\n",
    "    display(df.head())\n",
    "    display(df.info())\n",
    "\n",
    "\n",
    "dataset_summary(df_obs, \"observation.csv\")\n",
    "dataset_summary(df_pat, \"patient.csv\")\n",
    "dataset_summary(df_sta, \"station.csv\")\n",
    "\n"
   ]
  },
  {
   "cell_type": "markdown",
   "id": "763e69fa",
   "metadata": {},
   "source": [
    " ### 1.1(A) Analýza  štruktúr  dát  ako  súbory  \n",
    "(štruktúry  a  vzťahy,  počet,  typy,  ...),  záznamy (štruktúry, počet záznamov, počet atribútov, typy, ...)\n",
    "\n",
    "\n",
    "Projekt obsahuje 3 základné súbory:\n",
    "\n",
    "- **observation.csv** – obsahuje senzorové merania pacienta (napr. SpO₂, HR, RR, tlak, teplotu kože,a iné)\n",
    "- **patient.csv** – uchováva informácie o pacientoch ako základné(meno, priezvisko,mail,...) tak aj pokročilé(krvná skupina,dátum narodenia,...)\n",
    "  \n",
    "\n",
    "- **station.csv** – obsahuje informácie o staniciach, kde boli merania vykonávané (napr.location, stationm, QoS).\n",
    "\n",
    "\n",
    "Z hľadiska dátových typov sú všetky súbory v poriadku – numerické premenné majú typ `float64`\n",
    "a textové typ `object`. Dátumové a časové údaje možno budú vyžadovať\n",
    "konverziu na typ `datetime64` \n",
    "\n",
    "\n"
   ]
  },
  {
   "cell_type": "markdown",
   "id": "9f660b18",
   "metadata": {},
   "source": [
    "### 1.1(B). Analýza jednotlivých atribútov: pre zvolené významné atribúty (min 10) analyzujte ich  distribúcie  a  základné  deskriptívne  štatistiky  a  či  spĺňa  predpísané  podmienky  a rozsah meraných hodnôt."
   ]
  },
  {
   "cell_type": "code",
   "execution_count": null,
   "id": "acb5aeff",
   "metadata": {},
   "outputs": [],
   "source": [
    "attributes = ['SpO₂', 'HR', 'PI', 'RR', 'EtCO₂', 'FiO₂', 'BP', 'Skin Temperature', 'Motion/Activity index', 'CO']\n",
    "\n",
    "for atr in attributes:\n",
    "    fig, axes = plt.subplots(1, 2, figsize=(12, 5))\n",
    "    \n",
    "\n",
    "    print(\"Atribút:\", atr,\"\\n\")\n",
    "    display(df_obs[atr].describe())\n",
    "    axes[0].set_title(f\"{atr} - Histogram\")\n",
    "    axes[1].set_title(f\"{atr} - Boxplot\")\n",
    "    sns.histplot(df_obs[atr].dropna(), kde=True, ax=axes[0])\n",
    "    sns.boxplot(x=df_obs[atr], ax=axes[1])\n",
    "    plt.show()\n"
   ]
  },
  {
   "cell_type": "markdown",
   "id": "c4d72433",
   "metadata": {},
   "source": [
    "### 1.1(C) Párová analýza dát: Identifikujte vzťahy a závislostí medzi dvojicami atribútov. \n"
   ]
  },
  {
   "cell_type": "code",
   "execution_count": null,
   "id": "74bfa8b3",
   "metadata": {},
   "outputs": [],
   "source": [
    "#vsetky numericke atributy\n",
    "#corr_matrix = df_obs.select_dtypes(include=[np.number]).copy().corr()\n",
    "\n",
    "\n",
    "#len tie podstatnejšie\n",
    "corr_matrix = df_obs[['SpO₂', 'HR', 'PI', 'RR', 'EtCO₂', 'FiO₂', 'BP','PRV','PVI', 'Skin Temperature', 'Motion/Activity index', 'CO','SV',]].corr()\n",
    "\n",
    "\n",
    "plt.figure(figsize=(10,10))\n",
    "sns.heatmap(corr_matrix, annot=True, cmap='coolwarm', center=0)\n",
    "plt.title('Matica vzťahov medzi atribútmi')\n",
    "plt.show()"
   ]
  },
  {
   "cell_type": "markdown",
   "id": "0b384fd6",
   "metadata": {},
   "source": [
    "### 1.1(D) Párová  analýza  dát:  Identifikujte  závislosti  medzi  predikovanou  premennou  a ostatnými premennými (potenciálnymi prediktormi)."
   ]
  },
  {
   "cell_type": "code",
   "execution_count": null,
   "id": "9889a83b",
   "metadata": {},
   "outputs": [],
   "source": [
    "\n",
    "\n",
    "#ciselne stplce\n",
    "num = df_obs.select_dtypes(include=[np.number]).copy()\n",
    "\n",
    "# korelacia \n",
    "corr = num.corr(numeric_only=True)['oximetry'].drop('oximetry')\n",
    "corr_abs = corr.abs().sort_values(ascending=False)\n",
    "\n",
    "\n",
    "\n",
    "pv = []\n",
    "for col in corr_abs.index[:10]: # len top 10\n",
    "    x = num[col].dropna()\n",
    "    y = num['oximetry'].loc[x.index]\n",
    "    r, p = pearsonr(x, y)\n",
    "    pv.append((col, r, p))\n",
    "pv_df = pd.DataFrame(pv, columns=['atribúty','r(Pearson)','p-value'])\n",
    "\n",
    "# 4) Vizualizácia\n",
    "plt.figure(figsize=(10,6))\n",
    "sns.barplot(x=corr_abs.index, y=corr_abs.values, order=corr_abs.index)\n",
    "plt.xticks(rotation=90)\n",
    "plt.title('Velkosť vzťahu s oximetry (Pearson r)')\n",
    "plt.xlabel('Atribút')\n",
    "plt.ylabel('korelačný koeficient')\n",
    "plt.tight_layout()\n",
    "plt.show()\n",
    "\n",
    "pv_df\n"
   ]
  },
  {
   "cell_type": "markdown",
   "id": "ff86c7f4",
   "metadata": {},
   "source": [
    "### 1.1(E) Dokumentácia zistení\n",
    "\n",
    "- Pri prvotnej analýze datasetov sme sa zamerali na štruktúru datasetov a vzťahmi medzi jednotlivými atribútami\n",
    "\n",
    "- dataset pozostáva z troch častí **observation**, **patient**, **station** \n",
    "\n",
    "**observion** obsahuje jednotlivé hodnoty pozorovania\n",
    "\n",
    "**patient** obsahuje informácie o pacientoch ako meno, email, krvná skupina, id a rôzne iné informácie\n",
    "\n",
    "**station** je dataset obsahujúci stanice kde prebiehali merania, ich názov, miesto, ...\n",
    "\n",
    "\n",
    "Pri práci s datasetmi sme zistili, že neexistuje priame napojenie csv súborov a nedá sa s nimi pracovať na tejto úrovni. To znamená, že nevieme koho sú skúmané hodnoty. Napojenie si môžeme všimnúť medzi observation a station podľa hodnoty latitude a longitude.\n",
    "\n"
   ]
  },
  {
   "cell_type": "markdown",
   "id": "3a482079",
   "metadata": {},
   "source": [
    "## 1.2 Identifikácia problémov, integrácia a čistenie dát"
   ]
  },
  {
   "cell_type": "markdown",
   "id": "d5512f31",
   "metadata": {},
   "source": [
    "### 1.2(A)  Identifikujte  aj prvotne riešte problémy v dátach\n",
    "napr.: nevhodná štruktúra dát, duplicitné  záznamy,  ktoré  môžu  vznikať  po  určitých  dátových  transformáciach, nejednotné formáty, chýbajúce hodnoty,vychýlenéhodnoty. V dátach sa môžu nachádzať aj iné, tu nevymenované problémy, resp. menej problémov ako bolo uvedených."
   ]
  },
  {
   "cell_type": "code",
   "execution_count": null,
   "id": "f76b5cfc",
   "metadata": {},
   "outputs": [],
   "source": [
    "datasets = {\n",
    "    \"Observation\": df_obs,\n",
    "    \"Patient\": df_pat,\n",
    "    \"Station\": df_sta\n",
    "}\n",
    "\n",
    "\n",
    "for name, df in datasets.items():\n",
    "    print(\"\\n\\n Dataset: \",name)\n",
    "    print(\"Počet riadkov: \",df.shape[0])\n",
    "    print(\"Počet stĺpcov: \",df.shape[1])\n",
    "\n",
    "    print(\"Chýbajúce hodnoty na stĺpec:\")\n",
    "    if df.isnull().sum().sum() == 0:\n",
    "        print(\"Žiadne chýbajúce hodnoty\")\n",
    "    else:\n",
    "        print(df.isnull().sum())\n",
    "    print(\"typy: \\n\",df.dtypes)\n",
    "\n",
    "    duplicitne_indexy = df[df.duplicated()].index\n",
    "    if duplicitne_indexy.empty:\n",
    "        print(\"Žiadne duplicitné riadky\")\n",
    "    else:\n",
    "        print(\"Indexy duplicitných riadkov:\", duplicitne_indexy.tolist())\n",
    "        \n",
    "\n",
    "    print(\"pocet unikatnych hodnot na stlpec:\")\n",
    "    print(df.nunique())\n",
    "\n",
    "\n",
    "\n",
    "\n",
    "\n",
    "\n",
    "\n"
   ]
  },
  {
   "cell_type": "code",
   "execution_count": null,
   "id": "6f2bca79",
   "metadata": {},
   "outputs": [],
   "source": [
    "\n",
    "#vypisduplicitneho riadku v observation\n",
    "dups_obs = df_obs[df_obs.duplicated(keep=False)].sort_values(list(df_obs.columns))\n",
    "display(dups_obs)"
   ]
  },
  {
   "cell_type": "markdown",
   "id": "bb1a5105",
   "metadata": {},
   "source": [
    "\n",
    "**Observation**\n",
    "- Po dôkladnom výise sme zistili duplicitný záznam v datasete observation na riadku 3850. V nižšie uvedenom výpise je vidieť aj porovnanie s riadkom s ktorým duplicitu zdieľa. \n",
    "- Ostatné hodnoty vyzerajú byť v poriadku\n",
    "\n",
    "**Patient** \n",
    "- Tu môžeme vidieť, že stĺpec residence je prázdny(počet riadkov = počet chýbajúcich hodnôt v stĺpci) a môžeme ho teda úplne odstrániť. \n",
    "- Taktiež vidíme veľký počet chýbajúcich záznamov v stĺpcoch ako **job**,**address** a **birthdate**. Dalšia chyba je v type stĺcov **registration** a **birthdate**, ktoré su *object* a maju byť *datetime*\n",
    "\n",
    "**Station**\n",
    "- v datasete station sme nezaznamenali podozrivé anomálie\n"
   ]
  },
  {
   "cell_type": "markdown",
   "id": "e6850bd9",
   "metadata": {},
   "source": [
    "#### Riešenia"
   ]
  },
  {
   "cell_type": "code",
   "execution_count": null,
   "id": "502d4b93",
   "metadata": {},
   "outputs": [],
   "source": [
    "#zatial zakomentovane odstranenie duplicitnych riadkov\n",
    "#v datasete observation.csv\n",
    "#past = df_obs.shape[0]\n",
    "#df_obs = df_obs.drop_duplicates()\n",
    "#future = df_obs.shape[0]\n",
    "#print(f\"Observation: odstránených {past - future} duplicitných riadkov\")\n",
    "\n",
    "\n",
    "#odstranenie stplca NaN v residence.csv\n",
    "#if 'residence' in df_patient.columns and df_patient['residence'].isna().all():\n",
    "    #df_patient = df_patient.drop(columns=['residence'])\n",
    "\n",
    "\n",
    "#zmena datovych typov na z float na datumy\n",
    "# parsovanie dátumov\n",
    "#for col in ['registration', 'birthdate']:\n",
    "    #if col in df_patient.columns:\n",
    "        #df_patient[col] = pd.to_datetime(df_patient[col], errors='coerce')\n",
    "\n",
    "\n"
   ]
  },
  {
   "cell_type": "markdown",
   "id": "3fef788d",
   "metadata": {},
   "source": [
    "### 1.2(B)Kontrola správnosť v dátach \n",
    "-  či obsahujú abnormálne hodnoty \n",
    "-  či  obsahujú  nelogické  dátové  vzťahy,  ktoré  sú následkom  dátovej  kolekcie  a anotovania dát"
   ]
  },
  {
   "cell_type": "code",
   "execution_count": null,
   "id": "a11fef0b",
   "metadata": {},
   "outputs": [],
   "source": [
    "#abnormalne data\n",
    "\n",
    "normal_ranges = {\n",
    "    'SpO₂': (70, 100),\n",
    "    'HR': (40, 180),\n",
    "    'PI': (0.3, 20),\n",
    "    'RR': (8, 30),\n",
    "    'EtCO₂': (20, 50),\n",
    "    'FiO₂': (21, 100),\n",
    "    'PRV': (0, 300),\n",
    "    'BP': (60, 180),\n",
    "    'Skin Temperature': (30, 40),\n",
    "    'Motion/Activity index': (0, 100),\n",
    "    'PVI': (0, 30),\n",
    "    'Hb level': (10, 18),\n",
    "    'SV': (40, 200),\n",
    "    'CO': (3, 8),\n",
    "    'Signal Quality Index': (0, 100),\n",
    "    'Respiratory effort': (0, 100),\n",
    "    'O₂ extraction ratio': (0.1, 0.7),\n",
    "    'SNR': (0, 80)\n",
    "}\n",
    "\n",
    "\n",
    "\n",
    "print(\"Počet abnormálnych hodnôt podľa medicínskych rozsahov:\\n\")\n",
    "for col, (low, high) in normal_ranges.items():\n",
    "    if col in df_obs.columns:\n",
    "        mask = (df_obs[col] < low) | (df_obs[col] > high)\n",
    "        count = mask.sum()\n",
    "        print(f\"{col:20s}: {count:4d} ({round(count/len(df_obs)*100,2)}%) mimo rozsah\")\n"
   ]
  },
  {
   "cell_type": "code",
   "execution_count": null,
   "id": "2c87135e",
   "metadata": {},
   "outputs": [
    {
     "name": "stdout",
     "output_type": "stream",
     "text": [
      "\n",
      "Nelogické kombinácie hodnôt:\n",
      "SpO₂=0 a HR>0: 0 riadkov (0.00 %)\n",
      "CO=0 a HR>0: 0 riadkov (0.00 %)\n",
      "FiO₂=21 a EtCO₂=0: 0 riadkov (0.00 %)\n",
      "Neplatné krvné skupiny: 0\n",
      "Duplicitné SSN: 0\n"
     ]
    }
   ],
   "source": [
    "# Nelogické kombinácie\n",
    "#možno pridat ďalšie podľa potreby\n",
    "rules = {\n",
    "    \"SpO₂=0 a HR>0\": (df_obs['SpO₂'] == 0) & (df_obs['HR'] > 0),\n",
    "    \"CO=0 a HR>0\": (df_obs['CO'] == 0) & (df_obs['HR'] > 0),\n",
    "    \"FiO₂=21 a EtCO₂=0\": (df_obs['FiO₂'] == 21) & (df_obs['EtCO₂'] == 0)\n",
    "}\n",
    "\n",
    "print(\"Observattion: \\n\")\n",
    "print(\"\\nNelogické kombinácie hodnôt:\")\n",
    "for name, mask in rules.items():\n",
    "    print(f\"{name}: {mask.sum()} riadkov ({mask.mean()*100:.2f} %)\")\n",
    "\n",
    "\n",
    "#patient.csv\n",
    "print(\"\\nPatient: \\n\")\n",
    "\n",
    "invalid_blood = ~df_pat['blood_group'].isin(['A+', 'A-', 'B+', 'B-', 'AB+', 'AB-', '0+', '0-','O-','O+'])\n",
    "print(\"Neplatné krvné skupiny:\", invalid_blood.sum())\n",
    "\n",
    "\n",
    "# 2. Duplicitné SSN\n",
    "print(\"Duplicitné SSN:\", df_pat['ssn'].duplicated().sum())\n",
    "\n",
    "\n",
    "\n"
   ]
  },
  {
   "cell_type": "markdown",
   "id": "133dfb03",
   "metadata": {},
   "source": [
    "#### Záznam výsledkov\n",
    "- zistili sme, že v datasetoch sa nenachádzajú nabnormálne hodnoty ani nelogické dátové vzťahy hlavne v datasete **observation.csv**\n",
    "- na druhú stranu v datasete **patient.csv** sme zistili, že krvá skupina 0+ a 0- sú zapísané ako veľké písmeno O a nie číslica 0(zatiaľ ponechané tak ako bolo)"
   ]
  }
 ],
 "metadata": {
  "kernelspec": {
   "display_name": "Python 3",
   "language": "python",
   "name": "python3"
  },
  "language_info": {
   "codemirror_mode": {
    "name": "ipython",
    "version": 3
   },
   "file_extension": ".py",
   "mimetype": "text/x-python",
   "name": "python",
   "nbconvert_exporter": "python",
   "pygments_lexer": "ipython3",
   "version": "3.11.9"
  }
 },
 "nbformat": 4,
 "nbformat_minor": 5
}
